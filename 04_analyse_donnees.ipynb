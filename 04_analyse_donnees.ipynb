{
  "nbformat": 4,
  "nbformat_minor": 0,
  "metadata": {
    "colab": {
      "provenance": []
    },
    "kernelspec": {
      "name": "python3",
      "display_name": "Python 3"
    },
    "language_info": {
      "name": "python"
    }
  },
  "cells": [
    {
      "cell_type": "code",
      "source": [
        "import pandas as pd\n",
        "\n",
        "df = pd.read_excel(\"Sample - Superstore.xls\")"
      ],
      "metadata": {
        "id": "yZtF6nnsygLV"
      },
      "execution_count": null,
      "outputs": []
    },
    {
      "cell_type": "markdown",
      "source": [
        "# **Analyse des données**"
      ],
      "metadata": {
        "id": "KMeHB7Auygz8"
      }
    },
    {
      "cell_type": "markdown",
      "source": [
        "On vérifie préalablement s'il y a des valeurs manquantes dans le datframe, auquel cas, on pourrait remplacer les NaN par 0. On utilise les fonctions \"isnull()\" pour savoir s'il y a des NaN et \"sum()\", pour compter ces NaN, s'ils existent."
      ],
      "metadata": {
        "id": "OKdhG0rJzoZK"
      }
    },
    {
      "cell_type": "code",
      "source": [
        "verif = df.isnull().sum()\n",
        "\n",
        "print(verif)"
      ],
      "metadata": {
        "colab": {
          "base_uri": "https://localhost:8080/"
        },
        "id": "9Qw0vYCfzxsl",
        "outputId": "64593527-1924-4ca3-97ec-cf6f213dc4b3"
      },
      "execution_count": 22,
      "outputs": [
        {
          "output_type": "stream",
          "name": "stdout",
          "text": [
            "Row ID           0\n",
            "Order ID         0\n",
            "Order Date       0\n",
            "Ship Date        0\n",
            "Ship Mode        0\n",
            "Customer ID      0\n",
            "Customer Name    0\n",
            "Segment          0\n",
            "Country          0\n",
            "City             0\n",
            "State            0\n",
            "Postal Code      0\n",
            "Region           0\n",
            "Product ID       0\n",
            "Category         0\n",
            "Sub-Category     0\n",
            "Product Name     0\n",
            "Sales            0\n",
            "Quantity         0\n",
            "Discount         0\n",
            "Profit           0\n",
            "dtype: int64\n"
          ]
        }
      ]
    },
    {
      "cell_type": "markdown",
      "source": [
        "Utilisation de la fonction \"describe()\" afin d'avoir une première visualisation des données"
      ],
      "metadata": {
        "id": "lEz9eMxqzH0a"
      }
    },
    {
      "cell_type": "code",
      "source": [
        "df.describe()"
      ],
      "metadata": {
        "colab": {
          "base_uri": "https://localhost:8080/",
          "height": 300
        },
        "id": "-2Xa0mzOzCB5",
        "outputId": "a37b14ab-85ad-4fe1-ab24-c2cb813b4076"
      },
      "execution_count": 20,
      "outputs": [
        {
          "output_type": "execute_result",
          "data": {
            "text/plain": [
              "            Row ID                     Order Date  \\\n",
              "count  9994.000000                           9994   \n",
              "mean   4997.500000  2016-04-30 00:07:12.259355648   \n",
              "min       1.000000            2014-01-03 00:00:00   \n",
              "25%    2499.250000            2015-05-23 00:00:00   \n",
              "50%    4997.500000            2016-06-26 00:00:00   \n",
              "75%    7495.750000            2017-05-14 00:00:00   \n",
              "max    9994.000000            2017-12-30 00:00:00   \n",
              "std    2885.163629                            NaN   \n",
              "\n",
              "                           Ship Date   Postal Code         Sales     Quantity  \\\n",
              "count                           9994   9994.000000   9994.000000  9994.000000   \n",
              "mean   2016-05-03 23:06:58.571142912  55190.379428    229.858001     3.789574   \n",
              "min              2014-01-07 00:00:00   1040.000000      0.444000     1.000000   \n",
              "25%              2015-05-27 00:00:00  23223.000000     17.280000     2.000000   \n",
              "50%              2016-06-29 00:00:00  56430.500000     54.490000     3.000000   \n",
              "75%              2017-05-18 00:00:00  90008.000000    209.940000     5.000000   \n",
              "max              2018-01-05 00:00:00  99301.000000  22638.480000    14.000000   \n",
              "std                              NaN  32063.693350    623.245101     2.225110   \n",
              "\n",
              "          Discount       Profit  \n",
              "count  9994.000000  9994.000000  \n",
              "mean      0.156203    28.656896  \n",
              "min       0.000000 -6599.978000  \n",
              "25%       0.000000     1.728750  \n",
              "50%       0.200000     8.666500  \n",
              "75%       0.200000    29.364000  \n",
              "max       0.800000  8399.976000  \n",
              "std       0.206452   234.260108  "
            ],
            "text/html": [
              "\n",
              "  <div id=\"df-0df2e167-8fe2-486d-8a99-3e2a43ed21f9\" class=\"colab-df-container\">\n",
              "    <div>\n",
              "<style scoped>\n",
              "    .dataframe tbody tr th:only-of-type {\n",
              "        vertical-align: middle;\n",
              "    }\n",
              "\n",
              "    .dataframe tbody tr th {\n",
              "        vertical-align: top;\n",
              "    }\n",
              "\n",
              "    .dataframe thead th {\n",
              "        text-align: right;\n",
              "    }\n",
              "</style>\n",
              "<table border=\"1\" class=\"dataframe\">\n",
              "  <thead>\n",
              "    <tr style=\"text-align: right;\">\n",
              "      <th></th>\n",
              "      <th>Row ID</th>\n",
              "      <th>Order Date</th>\n",
              "      <th>Ship Date</th>\n",
              "      <th>Postal Code</th>\n",
              "      <th>Sales</th>\n",
              "      <th>Quantity</th>\n",
              "      <th>Discount</th>\n",
              "      <th>Profit</th>\n",
              "    </tr>\n",
              "  </thead>\n",
              "  <tbody>\n",
              "    <tr>\n",
              "      <th>count</th>\n",
              "      <td>9994.000000</td>\n",
              "      <td>9994</td>\n",
              "      <td>9994</td>\n",
              "      <td>9994.000000</td>\n",
              "      <td>9994.000000</td>\n",
              "      <td>9994.000000</td>\n",
              "      <td>9994.000000</td>\n",
              "      <td>9994.000000</td>\n",
              "    </tr>\n",
              "    <tr>\n",
              "      <th>mean</th>\n",
              "      <td>4997.500000</td>\n",
              "      <td>2016-04-30 00:07:12.259355648</td>\n",
              "      <td>2016-05-03 23:06:58.571142912</td>\n",
              "      <td>55190.379428</td>\n",
              "      <td>229.858001</td>\n",
              "      <td>3.789574</td>\n",
              "      <td>0.156203</td>\n",
              "      <td>28.656896</td>\n",
              "    </tr>\n",
              "    <tr>\n",
              "      <th>min</th>\n",
              "      <td>1.000000</td>\n",
              "      <td>2014-01-03 00:00:00</td>\n",
              "      <td>2014-01-07 00:00:00</td>\n",
              "      <td>1040.000000</td>\n",
              "      <td>0.444000</td>\n",
              "      <td>1.000000</td>\n",
              "      <td>0.000000</td>\n",
              "      <td>-6599.978000</td>\n",
              "    </tr>\n",
              "    <tr>\n",
              "      <th>25%</th>\n",
              "      <td>2499.250000</td>\n",
              "      <td>2015-05-23 00:00:00</td>\n",
              "      <td>2015-05-27 00:00:00</td>\n",
              "      <td>23223.000000</td>\n",
              "      <td>17.280000</td>\n",
              "      <td>2.000000</td>\n",
              "      <td>0.000000</td>\n",
              "      <td>1.728750</td>\n",
              "    </tr>\n",
              "    <tr>\n",
              "      <th>50%</th>\n",
              "      <td>4997.500000</td>\n",
              "      <td>2016-06-26 00:00:00</td>\n",
              "      <td>2016-06-29 00:00:00</td>\n",
              "      <td>56430.500000</td>\n",
              "      <td>54.490000</td>\n",
              "      <td>3.000000</td>\n",
              "      <td>0.200000</td>\n",
              "      <td>8.666500</td>\n",
              "    </tr>\n",
              "    <tr>\n",
              "      <th>75%</th>\n",
              "      <td>7495.750000</td>\n",
              "      <td>2017-05-14 00:00:00</td>\n",
              "      <td>2017-05-18 00:00:00</td>\n",
              "      <td>90008.000000</td>\n",
              "      <td>209.940000</td>\n",
              "      <td>5.000000</td>\n",
              "      <td>0.200000</td>\n",
              "      <td>29.364000</td>\n",
              "    </tr>\n",
              "    <tr>\n",
              "      <th>max</th>\n",
              "      <td>9994.000000</td>\n",
              "      <td>2017-12-30 00:00:00</td>\n",
              "      <td>2018-01-05 00:00:00</td>\n",
              "      <td>99301.000000</td>\n",
              "      <td>22638.480000</td>\n",
              "      <td>14.000000</td>\n",
              "      <td>0.800000</td>\n",
              "      <td>8399.976000</td>\n",
              "    </tr>\n",
              "    <tr>\n",
              "      <th>std</th>\n",
              "      <td>2885.163629</td>\n",
              "      <td>NaN</td>\n",
              "      <td>NaN</td>\n",
              "      <td>32063.693350</td>\n",
              "      <td>623.245101</td>\n",
              "      <td>2.225110</td>\n",
              "      <td>0.206452</td>\n",
              "      <td>234.260108</td>\n",
              "    </tr>\n",
              "  </tbody>\n",
              "</table>\n",
              "</div>\n",
              "    <div class=\"colab-df-buttons\">\n",
              "\n",
              "  <div class=\"colab-df-container\">\n",
              "    <button class=\"colab-df-convert\" onclick=\"convertToInteractive('df-0df2e167-8fe2-486d-8a99-3e2a43ed21f9')\"\n",
              "            title=\"Convert this dataframe to an interactive table.\"\n",
              "            style=\"display:none;\">\n",
              "\n",
              "  <svg xmlns=\"http://www.w3.org/2000/svg\" height=\"24px\" viewBox=\"0 -960 960 960\">\n",
              "    <path d=\"M120-120v-720h720v720H120Zm60-500h600v-160H180v160Zm220 220h160v-160H400v160Zm0 220h160v-160H400v160ZM180-400h160v-160H180v160Zm440 0h160v-160H620v160ZM180-180h160v-160H180v160Zm440 0h160v-160H620v160Z\"/>\n",
              "  </svg>\n",
              "    </button>\n",
              "\n",
              "  <style>\n",
              "    .colab-df-container {\n",
              "      display:flex;\n",
              "      gap: 12px;\n",
              "    }\n",
              "\n",
              "    .colab-df-convert {\n",
              "      background-color: #E8F0FE;\n",
              "      border: none;\n",
              "      border-radius: 50%;\n",
              "      cursor: pointer;\n",
              "      display: none;\n",
              "      fill: #1967D2;\n",
              "      height: 32px;\n",
              "      padding: 0 0 0 0;\n",
              "      width: 32px;\n",
              "    }\n",
              "\n",
              "    .colab-df-convert:hover {\n",
              "      background-color: #E2EBFA;\n",
              "      box-shadow: 0px 1px 2px rgba(60, 64, 67, 0.3), 0px 1px 3px 1px rgba(60, 64, 67, 0.15);\n",
              "      fill: #174EA6;\n",
              "    }\n",
              "\n",
              "    .colab-df-buttons div {\n",
              "      margin-bottom: 4px;\n",
              "    }\n",
              "\n",
              "    [theme=dark] .colab-df-convert {\n",
              "      background-color: #3B4455;\n",
              "      fill: #D2E3FC;\n",
              "    }\n",
              "\n",
              "    [theme=dark] .colab-df-convert:hover {\n",
              "      background-color: #434B5C;\n",
              "      box-shadow: 0px 1px 3px 1px rgba(0, 0, 0, 0.15);\n",
              "      filter: drop-shadow(0px 1px 2px rgba(0, 0, 0, 0.3));\n",
              "      fill: #FFFFFF;\n",
              "    }\n",
              "  </style>\n",
              "\n",
              "    <script>\n",
              "      const buttonEl =\n",
              "        document.querySelector('#df-0df2e167-8fe2-486d-8a99-3e2a43ed21f9 button.colab-df-convert');\n",
              "      buttonEl.style.display =\n",
              "        google.colab.kernel.accessAllowed ? 'block' : 'none';\n",
              "\n",
              "      async function convertToInteractive(key) {\n",
              "        const element = document.querySelector('#df-0df2e167-8fe2-486d-8a99-3e2a43ed21f9');\n",
              "        const dataTable =\n",
              "          await google.colab.kernel.invokeFunction('convertToInteractive',\n",
              "                                                    [key], {});\n",
              "        if (!dataTable) return;\n",
              "\n",
              "        const docLinkHtml = 'Like what you see? Visit the ' +\n",
              "          '<a target=\"_blank\" href=https://colab.research.google.com/notebooks/data_table.ipynb>data table notebook</a>'\n",
              "          + ' to learn more about interactive tables.';\n",
              "        element.innerHTML = '';\n",
              "        dataTable['output_type'] = 'display_data';\n",
              "        await google.colab.output.renderOutput(dataTable, element);\n",
              "        const docLink = document.createElement('div');\n",
              "        docLink.innerHTML = docLinkHtml;\n",
              "        element.appendChild(docLink);\n",
              "      }\n",
              "    </script>\n",
              "  </div>\n",
              "\n",
              "\n",
              "    <div id=\"df-d560fdb3-da79-4321-b99c-db0040c9bfb1\">\n",
              "      <button class=\"colab-df-quickchart\" onclick=\"quickchart('df-d560fdb3-da79-4321-b99c-db0040c9bfb1')\"\n",
              "                title=\"Suggest charts\"\n",
              "                style=\"display:none;\">\n",
              "\n",
              "<svg xmlns=\"http://www.w3.org/2000/svg\" height=\"24px\"viewBox=\"0 0 24 24\"\n",
              "     width=\"24px\">\n",
              "    <g>\n",
              "        <path d=\"M19 3H5c-1.1 0-2 .9-2 2v14c0 1.1.9 2 2 2h14c1.1 0 2-.9 2-2V5c0-1.1-.9-2-2-2zM9 17H7v-7h2v7zm4 0h-2V7h2v10zm4 0h-2v-4h2v4z\"/>\n",
              "    </g>\n",
              "</svg>\n",
              "      </button>\n",
              "\n",
              "<style>\n",
              "  .colab-df-quickchart {\n",
              "      --bg-color: #E8F0FE;\n",
              "      --fill-color: #1967D2;\n",
              "      --hover-bg-color: #E2EBFA;\n",
              "      --hover-fill-color: #174EA6;\n",
              "      --disabled-fill-color: #AAA;\n",
              "      --disabled-bg-color: #DDD;\n",
              "  }\n",
              "\n",
              "  [theme=dark] .colab-df-quickchart {\n",
              "      --bg-color: #3B4455;\n",
              "      --fill-color: #D2E3FC;\n",
              "      --hover-bg-color: #434B5C;\n",
              "      --hover-fill-color: #FFFFFF;\n",
              "      --disabled-bg-color: #3B4455;\n",
              "      --disabled-fill-color: #666;\n",
              "  }\n",
              "\n",
              "  .colab-df-quickchart {\n",
              "    background-color: var(--bg-color);\n",
              "    border: none;\n",
              "    border-radius: 50%;\n",
              "    cursor: pointer;\n",
              "    display: none;\n",
              "    fill: var(--fill-color);\n",
              "    height: 32px;\n",
              "    padding: 0;\n",
              "    width: 32px;\n",
              "  }\n",
              "\n",
              "  .colab-df-quickchart:hover {\n",
              "    background-color: var(--hover-bg-color);\n",
              "    box-shadow: 0 1px 2px rgba(60, 64, 67, 0.3), 0 1px 3px 1px rgba(60, 64, 67, 0.15);\n",
              "    fill: var(--button-hover-fill-color);\n",
              "  }\n",
              "\n",
              "  .colab-df-quickchart-complete:disabled,\n",
              "  .colab-df-quickchart-complete:disabled:hover {\n",
              "    background-color: var(--disabled-bg-color);\n",
              "    fill: var(--disabled-fill-color);\n",
              "    box-shadow: none;\n",
              "  }\n",
              "\n",
              "  .colab-df-spinner {\n",
              "    border: 2px solid var(--fill-color);\n",
              "    border-color: transparent;\n",
              "    border-bottom-color: var(--fill-color);\n",
              "    animation:\n",
              "      spin 1s steps(1) infinite;\n",
              "  }\n",
              "\n",
              "  @keyframes spin {\n",
              "    0% {\n",
              "      border-color: transparent;\n",
              "      border-bottom-color: var(--fill-color);\n",
              "      border-left-color: var(--fill-color);\n",
              "    }\n",
              "    20% {\n",
              "      border-color: transparent;\n",
              "      border-left-color: var(--fill-color);\n",
              "      border-top-color: var(--fill-color);\n",
              "    }\n",
              "    30% {\n",
              "      border-color: transparent;\n",
              "      border-left-color: var(--fill-color);\n",
              "      border-top-color: var(--fill-color);\n",
              "      border-right-color: var(--fill-color);\n",
              "    }\n",
              "    40% {\n",
              "      border-color: transparent;\n",
              "      border-right-color: var(--fill-color);\n",
              "      border-top-color: var(--fill-color);\n",
              "    }\n",
              "    60% {\n",
              "      border-color: transparent;\n",
              "      border-right-color: var(--fill-color);\n",
              "    }\n",
              "    80% {\n",
              "      border-color: transparent;\n",
              "      border-right-color: var(--fill-color);\n",
              "      border-bottom-color: var(--fill-color);\n",
              "    }\n",
              "    90% {\n",
              "      border-color: transparent;\n",
              "      border-bottom-color: var(--fill-color);\n",
              "    }\n",
              "  }\n",
              "</style>\n",
              "\n",
              "      <script>\n",
              "        async function quickchart(key) {\n",
              "          const quickchartButtonEl =\n",
              "            document.querySelector('#' + key + ' button');\n",
              "          quickchartButtonEl.disabled = true;  // To prevent multiple clicks.\n",
              "          quickchartButtonEl.classList.add('colab-df-spinner');\n",
              "          try {\n",
              "            const charts = await google.colab.kernel.invokeFunction(\n",
              "                'suggestCharts', [key], {});\n",
              "          } catch (error) {\n",
              "            console.error('Error during call to suggestCharts:', error);\n",
              "          }\n",
              "          quickchartButtonEl.classList.remove('colab-df-spinner');\n",
              "          quickchartButtonEl.classList.add('colab-df-quickchart-complete');\n",
              "        }\n",
              "        (() => {\n",
              "          let quickchartButtonEl =\n",
              "            document.querySelector('#df-d560fdb3-da79-4321-b99c-db0040c9bfb1 button');\n",
              "          quickchartButtonEl.style.display =\n",
              "            google.colab.kernel.accessAllowed ? 'block' : 'none';\n",
              "        })();\n",
              "      </script>\n",
              "    </div>\n",
              "\n",
              "    </div>\n",
              "  </div>\n"
            ],
            "application/vnd.google.colaboratory.intrinsic+json": {
              "type": "dataframe",
              "summary": "{\n  \"name\": \"df\",\n  \"rows\": 8,\n  \"fields\": [\n    {\n      \"column\": \"Row ID\",\n      \"properties\": {\n        \"dtype\": \"number\",\n        \"std\": 3601.581157509886,\n        \"min\": 1.0,\n        \"max\": 9994.0,\n        \"num_unique_values\": 6,\n        \"samples\": [\n          9994.0,\n          4997.5,\n          2885.1636290974325\n        ],\n        \"semantic_type\": \"\",\n        \"description\": \"\"\n      }\n    },\n    {\n      \"column\": \"Order Date\",\n      \"properties\": {\n        \"dtype\": \"date\",\n        \"min\": \"1970-01-01 00:00:00.000009994\",\n        \"max\": \"2017-12-30 00:00:00\",\n        \"num_unique_values\": 7,\n        \"samples\": [\n          \"9994\",\n          \"2016-04-30 00:07:12.259355648\",\n          \"2017-05-14 00:00:00\"\n        ],\n        \"semantic_type\": \"\",\n        \"description\": \"\"\n      }\n    },\n    {\n      \"column\": \"Ship Date\",\n      \"properties\": {\n        \"dtype\": \"date\",\n        \"min\": \"1970-01-01 00:00:00.000009994\",\n        \"max\": \"2018-01-05 00:00:00\",\n        \"num_unique_values\": 7,\n        \"samples\": [\n          \"9994\",\n          \"2016-05-03 23:06:58.571142912\",\n          \"2017-05-18 00:00:00\"\n        ],\n        \"semantic_type\": \"\",\n        \"description\": \"\"\n      }\n    },\n    {\n      \"column\": \"Postal Code\",\n      \"properties\": {\n        \"dtype\": \"number\",\n        \"std\": 35860.31406157157,\n        \"min\": 1040.0,\n        \"max\": 99301.0,\n        \"num_unique_values\": 8,\n        \"samples\": [\n          55190.3794276566,\n          90008.0,\n          9994.0\n        ],\n        \"semantic_type\": \"\",\n        \"description\": \"\"\n      }\n    },\n    {\n      \"column\": \"Sales\",\n      \"properties\": {\n        \"dtype\": \"number\",\n        \"std\": 8197.010918685499,\n        \"min\": 0.44399999999999995,\n        \"max\": 22638.48,\n        \"num_unique_values\": 8,\n        \"samples\": [\n          229.85800083049833,\n          209.94,\n          9994.0\n        ],\n        \"semantic_type\": \"\",\n        \"description\": \"\"\n      }\n    },\n    {\n      \"column\": \"Quantity\",\n      \"properties\": {\n        \"dtype\": \"number\",\n        \"std\": 3531.848471644344,\n        \"min\": 1.0,\n        \"max\": 9994.0,\n        \"num_unique_values\": 8,\n        \"samples\": [\n          3.789573744246548,\n          5.0,\n          9994.0\n        ],\n        \"semantic_type\": \"\",\n        \"description\": \"\"\n      }\n    },\n    {\n      \"column\": \"Discount\",\n      \"properties\": {\n        \"dtype\": \"number\",\n        \"std\": 3533.3336684667293,\n        \"min\": 0.0,\n        \"max\": 9994.0,\n        \"num_unique_values\": 6,\n        \"samples\": [\n          9994.0,\n          0.15620272163297977,\n          0.2064519678256984\n        ],\n        \"semantic_type\": \"\",\n        \"description\": \"\"\n      }\n    },\n    {\n      \"column\": \"Profit\",\n      \"properties\": {\n        \"dtype\": \"number\",\n        \"std\": 5288.326642672474,\n        \"min\": -6599.978000000001,\n        \"max\": 9994.0,\n        \"num_unique_values\": 8,\n        \"samples\": [\n          28.656896307784663,\n          29.363999999999997,\n          9994.0\n        ],\n        \"semantic_type\": \"\",\n        \"description\": \"\"\n      }\n    }\n  ]\n}"
            }
          },
          "metadata": {},
          "execution_count": 20
        }
      ]
    },
    {
      "cell_type": "markdown",
      "source": [
        "# **Utilisation des KPI (Key Performance Indicators)**"
      ],
      "metadata": {
        "id": "3gsndCD907UX"
      }
    },
    {
      "cell_type": "markdown",
      "source": [
        "On va utiliser différents KPI pour évaluer la performance des activités de l'entreprise, à partir du datframe fourni. On va principalement étudier les colonnes \"Sales\", \"Quantity\", \"Profit\", dans un premier temps. Puis dans un second temps, on étudiera les liens entres les ventes de l'entreprises et les régions de ventes, les délais de livraisons..."
      ],
      "metadata": {
        "id": "57JY34TS1GBV"
      }
    },
    {
      "cell_type": "markdown",
      "source": [
        "On analyse ici seulement la colonne Sales.\n",
        "On utilise des KPI de base, avec la fonction \"mean()\", qui calcule la moyenne des ventes, la fonction \"sum()\", qui calcule la somme totale des ventes, les fonctions \"min()\" / \"max()\", la médiane avec \"median()\" et l'étendue."
      ],
      "metadata": {
        "id": "q9p7ztC03aaN"
      }
    },
    {
      "cell_type": "markdown",
      "source": [
        "Affiche le nombre de client de manière unique"
      ],
      "metadata": {
        "id": "P2xIfuOlBVeL"
      }
    },
    {
      "cell_type": "code",
      "source": [
        "nb_clients = df[\"Customer ID\"].nunique()\n",
        "\n",
        "print(nb_clients)"
      ],
      "metadata": {
        "colab": {
          "base_uri": "https://localhost:8080/"
        },
        "id": "kd_SO0bkBSUT",
        "outputId": "df89ae15-4fa6-4680-ee02-d6a82d641c91"
      },
      "execution_count": 39,
      "outputs": [
        {
          "output_type": "stream",
          "name": "stdout",
          "text": [
            "793\n"
          ]
        }
      ]
    },
    {
      "cell_type": "code",
      "source": [
        "# analyse de la colonne Sales\n",
        "\n",
        "sa_mean = df[\"Sales\"].mean() # moyenne de toutes les lignes de ventes\n",
        "sa_sum = df[\"Sales\"].sum()\n",
        "sa_max = df[\"Sales\"].max()\n",
        "sa_min = df[\"Sales\"].min()\n",
        "etendue = sa_max - sa_min\n",
        "sa_median = df[\"Sales\"].median()\n",
        "\n",
        "print(sa_mean)\n",
        "print(sa_sum)\n",
        "print(sa_max)\n",
        "print(sa_min)\n",
        "print(etendue)\n",
        "print(sa_median)"
      ],
      "metadata": {
        "colab": {
          "base_uri": "https://localhost:8080/"
        },
        "id": "aH6fSldKzcQM",
        "outputId": "66535f40-07e2-4f9f-bae7-1e0fad740be1"
      },
      "execution_count": 28,
      "outputs": [
        {
          "output_type": "stream",
          "name": "stdout",
          "text": [
            "229.85800083049833\n",
            "2297200.8603000003\n",
            "22638.48\n",
            "0.44399999999999995\n",
            "22638.036\n",
            "54.489999999999995\n"
          ]
        }
      ]
    },
    {
      "cell_type": "markdown",
      "source": [
        "Même analyse, cette fois pour la colonne Quantity"
      ],
      "metadata": {
        "id": "Wj16o0w-4050"
      }
    },
    {
      "cell_type": "code",
      "source": [
        "# analyse de la colonne Quantity\n",
        "\n",
        "qtt_mean = df[\"Quantity\"].mean()\n",
        "qtt_sum = df[\"Quantity\"].sum()\n",
        "qtt_max = df[\"Quantity\"].max()\n",
        "qtt_min = df[\"Quantity\"].min()\n",
        "etendue = qtt_max - qtt_min\n",
        "qtt_median = df[\"Quantity\"].median()\n",
        "\n",
        "print(qtt_mean)\n",
        "print(qtt_sum)\n",
        "print(qtt_max)\n",
        "print(qtt_min)\n",
        "print(etendue)\n",
        "print(qtt_median)"
      ],
      "metadata": {
        "colab": {
          "base_uri": "https://localhost:8080/"
        },
        "id": "j4YiYu9G2kwE",
        "outputId": "f4bea1b0-c3a2-41b9-b91a-609e06d1edae"
      },
      "execution_count": 29,
      "outputs": [
        {
          "output_type": "stream",
          "name": "stdout",
          "text": [
            "3.789573744246548\n",
            "37873\n",
            "14\n",
            "1\n",
            "13\n",
            "3.0\n"
          ]
        }
      ]
    },
    {
      "cell_type": "markdown",
      "source": [
        "Analyse du profit total, du nombre total de commandes avec la fonction \"nunique()\"."
      ],
      "metadata": {
        "id": "1xrgEpVi61df"
      }
    },
    {
      "cell_type": "code",
      "source": [
        "total_pro = df[\"Profit\"].sum()\n",
        "\n",
        "print(total_pro)\n",
        "\n",
        "total_cmd = df[\"Order ID\"].nunique()\n",
        "\n",
        "print(total_cmd)"
      ],
      "metadata": {
        "colab": {
          "base_uri": "https://localhost:8080/"
        },
        "id": "Y6NbEfCY6xdt",
        "outputId": "6d677a68-b75f-403c-84ea-f131f7cefd11"
      },
      "execution_count": 32,
      "outputs": [
        {
          "output_type": "stream",
          "name": "stdout",
          "text": [
            "286397.0216999999\n",
            "5009\n"
          ]
        }
      ]
    },
    {
      "cell_type": "markdown",
      "source": [
        "# **KPI avec la fonction \"groupby\"**"
      ],
      "metadata": {
        "id": "8UZB6qzh7dPT"
      }
    },
    {
      "cell_type": "markdown",
      "source": [
        "On affiche le ticket moyen d'un client avec les fonctions \"sum()\" et \"mean()\", après avoir sélectionné les colonnes Order ID et Sales"
      ],
      "metadata": {
        "id": "LrcCRklK70aS"
      }
    },
    {
      "cell_type": "code",
      "source": [
        "ticket_moy = df.groupby(\"Order ID\")[\"Sales\"].sum().mean() # moyenne par client\n",
        "\n",
        "print(ticket_moy)"
      ],
      "metadata": {
        "colab": {
          "base_uri": "https://localhost:8080/"
        },
        "id": "IsX4a41y7mYV",
        "outputId": "9c293e36-3a29-44dc-812b-45d8cfb1d478"
      },
      "execution_count": 35,
      "outputs": [
        {
          "output_type": "stream",
          "name": "stdout",
          "text": [
            "458.61466566180883\n"
          ]
        }
      ]
    },
    {
      "cell_type": "markdown",
      "source": [
        "On affiche la somme des ventes par régions. Cela permet une première analyse sur les secteurs les plus rentables, notamment la côte West."
      ],
      "metadata": {
        "id": "kYExxTFo8y89"
      }
    },
    {
      "cell_type": "code",
      "source": [
        "sa_reg = df.groupby(\"Region\")[\"Sales\"].sum()\n",
        "\n",
        "print(sa_reg)"
      ],
      "metadata": {
        "colab": {
          "base_uri": "https://localhost:8080/"
        },
        "id": "1qW-WE6Z8vML",
        "outputId": "583df238-fdff-47f5-9fdd-91f2eb8e05ef"
      },
      "execution_count": 44,
      "outputs": [
        {
          "output_type": "stream",
          "name": "stdout",
          "text": [
            "Region\n",
            "Central    501239.8908\n",
            "East       678781.2400\n",
            "South      391721.9050\n",
            "West       725457.8245\n",
            "Name: Sales, dtype: float64\n"
          ]
        }
      ]
    },
    {
      "cell_type": "markdown",
      "source": [
        "Affiche les ventes par état"
      ],
      "metadata": {
        "id": "4e6-8NerCMRq"
      }
    },
    {
      "cell_type": "code",
      "source": [
        "sa_st = df.groupby(\"State\")[\"Sales\"].sum()\n",
        "\n",
        "print(sa_st)"
      ],
      "metadata": {
        "colab": {
          "base_uri": "https://localhost:8080/"
        },
        "id": "n-shPROaAgpk",
        "outputId": "5237ccc4-16ef-4dde-bcc0-f1fb0f9fe277"
      },
      "execution_count": 46,
      "outputs": [
        {
          "output_type": "stream",
          "name": "stdout",
          "text": [
            "State\n",
            "Alabama                  19510.6400\n",
            "Arizona                  35282.0010\n",
            "Arkansas                 11678.1300\n",
            "California              457687.6315\n",
            "Colorado                 32108.1180\n",
            "Connecticut              13384.3570\n",
            "Delaware                 27451.0690\n",
            "District of Columbia      2865.0200\n",
            "Florida                  89473.7080\n",
            "Georgia                  49095.8400\n",
            "Idaho                     4382.4860\n",
            "Illinois                 80166.1010\n",
            "Indiana                  53555.3600\n",
            "Iowa                      4579.7600\n",
            "Kansas                    2914.3100\n",
            "Kentucky                 36591.7500\n",
            "Louisiana                 9217.0300\n",
            "Maine                     1270.5300\n",
            "Maryland                 23705.5230\n",
            "Massachusetts            28634.4340\n",
            "Michigan                 76269.6140\n",
            "Minnesota                29863.1500\n",
            "Mississippi              10771.3400\n",
            "Missouri                 22205.1500\n",
            "Montana                   5589.3520\n",
            "Nebraska                  7464.9300\n",
            "Nevada                   16729.1020\n",
            "New Hampshire             7292.5240\n",
            "New Jersey               35764.3120\n",
            "New Mexico                4783.5220\n",
            "New York                310876.2710\n",
            "North Carolina           55603.1640\n",
            "North Dakota               919.9100\n",
            "Ohio                     78258.1360\n",
            "Oklahoma                 19683.3900\n",
            "Oregon                   17431.1500\n",
            "Pennsylvania            116511.9140\n",
            "Rhode Island             22627.9560\n",
            "South Carolina            8481.7100\n",
            "South Dakota              1315.5600\n",
            "Tennessee                30661.8730\n",
            "Texas                   170188.0458\n",
            "Utah                     11220.0560\n",
            "Vermont                   8929.3700\n",
            "Virginia                 70636.7200\n",
            "Washington              138641.2700\n",
            "West Virginia             1209.8240\n",
            "Wisconsin                32114.6100\n",
            "Wyoming                   1603.1360\n",
            "Name: Sales, dtype: float64\n"
          ]
        }
      ]
    },
    {
      "cell_type": "markdown",
      "source": [
        "Affiche le pourcentage de ventes des états, par rapport à la vente totale. On utilise la fonction \"value_counts()\" afin d'avoir un pourcentage."
      ],
      "metadata": {
        "id": "A3CyK-0oD-li"
      }
    },
    {
      "cell_type": "code",
      "source": [
        "sa_freq = df[\"State\"].value_counts(normalize=True) * 100\n",
        "sa_freq = sa_freq.round(2)\n",
        "\n",
        "print(sa_freq)\n"
      ],
      "metadata": {
        "colab": {
          "base_uri": "https://localhost:8080/"
        },
        "id": "0yzouX0jDEDa",
        "outputId": "c44b9df1-38e4-4c48-9c6f-6e281f8ebf2a"
      },
      "execution_count": 50,
      "outputs": [
        {
          "output_type": "stream",
          "name": "stdout",
          "text": [
            "State\n",
            "California              20.02\n",
            "New York                11.29\n",
            "Texas                    9.86\n",
            "Pennsylvania             5.87\n",
            "Washington               5.06\n",
            "Illinois                 4.92\n",
            "Ohio                     4.69\n",
            "Florida                  3.83\n",
            "Michigan                 2.55\n",
            "North Carolina           2.49\n",
            "Arizona                  2.24\n",
            "Virginia                 2.24\n",
            "Georgia                  1.84\n",
            "Tennessee                1.83\n",
            "Colorado                 1.82\n",
            "Indiana                  1.49\n",
            "Kentucky                 1.39\n",
            "Massachusetts            1.35\n",
            "New Jersey               1.30\n",
            "Oregon                   1.24\n",
            "Wisconsin                1.10\n",
            "Maryland                 1.05\n",
            "Delaware                 0.96\n",
            "Minnesota                0.89\n",
            "Connecticut              0.82\n",
            "Missouri                 0.66\n",
            "Oklahoma                 0.66\n",
            "Alabama                  0.61\n",
            "Arkansas                 0.60\n",
            "Rhode Island             0.56\n",
            "Utah                     0.53\n",
            "Mississippi              0.53\n",
            "South Carolina           0.42\n",
            "Louisiana                0.42\n",
            "Nevada                   0.39\n",
            "Nebraska                 0.38\n",
            "New Mexico               0.37\n",
            "Iowa                     0.30\n",
            "New Hampshire            0.27\n",
            "Kansas                   0.24\n",
            "Idaho                    0.21\n",
            "Montana                  0.15\n",
            "South Dakota             0.12\n",
            "Vermont                  0.11\n",
            "District of Columbia     0.10\n",
            "Maine                    0.08\n",
            "North Dakota             0.07\n",
            "West Virginia            0.04\n",
            "Wyoming                  0.01\n",
            "Name: proportion, dtype: float64\n"
          ]
        }
      ]
    },
    {
      "cell_type": "markdown",
      "source": [
        "Affiche la fréquence d'apparition de chaque catégorie"
      ],
      "metadata": {
        "id": "v8u3B-kbqhOk"
      }
    },
    {
      "cell_type": "code",
      "source": [
        "cat_freq = df[\"Category\"].value_counts()\n",
        "\n",
        "print(cat_freq)"
      ],
      "metadata": {
        "colab": {
          "base_uri": "https://localhost:8080/"
        },
        "id": "IHeklEAGEpIp",
        "outputId": "407aa62f-b16b-47db-fa2a-05cef042a329"
      },
      "execution_count": 51,
      "outputs": [
        {
          "output_type": "stream",
          "name": "stdout",
          "text": [
            "Category\n",
            "Office Supplies    6026\n",
            "Furniture          2121\n",
            "Technology         1847\n",
            "Name: count, dtype: int64\n"
          ]
        }
      ]
    },
    {
      "cell_type": "markdown",
      "source": [
        "Affiche les villes avec les plus de ventes (les 10 premières)"
      ],
      "metadata": {
        "id": "XqR-f6ckrAj4"
      }
    },
    {
      "cell_type": "code",
      "source": [
        "top_vil = df.groupby(\"City\")[\"Sales\"].sum().sort_values(ascending=False).head(10)\n",
        "\n",
        "print(top_vil)"
      ],
      "metadata": {
        "colab": {
          "base_uri": "https://localhost:8080/"
        },
        "id": "koHkmNPwFR-Q",
        "outputId": "3fb877ca-91b3-429b-d12f-faba1d55645f"
      },
      "execution_count": 59,
      "outputs": [
        {
          "output_type": "stream",
          "name": "stdout",
          "text": [
            "City\n",
            "New York City    256368.1610\n",
            "Los Angeles      175851.3410\n",
            "Seattle          119540.7420\n",
            "San Francisco    112669.0920\n",
            "Philadelphia     109077.0130\n",
            "Houston           64504.7604\n",
            "Chicago           48539.5410\n",
            "San Diego         47521.0290\n",
            "Jacksonville      44713.1830\n",
            "Springfield       43054.3420\n",
            "Name: Sales, dtype: float64\n"
          ]
        }
      ]
    },
    {
      "cell_type": "markdown",
      "source": [
        "Affiche True / False si la ville fait partie de la partie West"
      ],
      "metadata": {
        "id": "55NVUCrTrRc9"
      }
    },
    {
      "cell_type": "code",
      "source": [
        "vil_top = top_vil.index.tolist()\n",
        "df_top_vil = df[df[\"City\"].isin(vil_top)]\n",
        "reg_vil = df_top_vil.groupby(\"City\")[\"Region\"].agg(lambda x: x.mode()[0])\n",
        "west = reg_vil == \"West\"\n",
        "\n",
        "print(west)"
      ],
      "metadata": {
        "colab": {
          "base_uri": "https://localhost:8080/"
        },
        "id": "La0gDNORGXqo",
        "outputId": "a9dae497-7772-4d32-b6ae-bf4fa7da1600"
      },
      "execution_count": 62,
      "outputs": [
        {
          "output_type": "stream",
          "name": "stdout",
          "text": [
            "City\n",
            "Chicago          False\n",
            "Houston          False\n",
            "Jacksonville     False\n",
            "Los Angeles       True\n",
            "New York City    False\n",
            "Philadelphia     False\n",
            "San Diego         True\n",
            "San Francisco     True\n",
            "Seattle           True\n",
            "Springfield      False\n",
            "Name: Region, dtype: bool\n"
          ]
        }
      ]
    },
    {
      "cell_type": "markdown",
      "source": [
        "Affiche le nombre moyen d'article par commandes"
      ],
      "metadata": {
        "id": "wFOcTmunqYBY"
      }
    },
    {
      "cell_type": "code",
      "source": [
        "nb_art_cmd = df.groupby(\"Order ID\")[\"Quantity\"].sum().mean()\n",
        "\n",
        "print(nb_art_cmd)"
      ],
      "metadata": {
        "colab": {
          "base_uri": "https://localhost:8080/"
        },
        "id": "dT7RcJDDqPz7",
        "outputId": "7f004cda-4e05-471d-bea3-f29b6e8115d9"
      },
      "execution_count": 64,
      "outputs": [
        {
          "output_type": "stream",
          "name": "stdout",
          "text": [
            "7.560990217608305\n"
          ]
        }
      ]
    },
    {
      "cell_type": "markdown",
      "source": [
        "Affiche le temps moyen de livraison en utilisant les fonctions \"todatetime()\", qui permet de s'arrurer que les dates sont au bon format, et \"dt.days\", qui permet de créer une colonne pour les temps de livraison."
      ],
      "metadata": {
        "id": "Oyg6XSctspkg"
      }
    },
    {
      "cell_type": "code",
      "source": [
        "df[\"Order Date\"] = pd.to_datetime(df[\"Order Date\"])\n",
        "df[\"Ship Date\"] = pd.to_datetime(df[\"Ship Date\"])\n",
        "df[\"Delivery Time\"] = (df[\"Ship Date\"] - df[\"Order Date\"]).dt.days\n",
        "a = df[\"Delivery Time\"].mean()\n",
        "\n",
        "print(a)"
      ],
      "metadata": {
        "colab": {
          "base_uri": "https://localhost:8080/"
        },
        "id": "GFORa_v_r24A",
        "outputId": "dc3242ce-ae64-430d-8881-c6b7e1890a35"
      },
      "execution_count": 66,
      "outputs": [
        {
          "output_type": "stream",
          "name": "stdout",
          "text": [
            "3.958174904942966\n"
          ]
        }
      ]
    },
    {
      "cell_type": "markdown",
      "source": [
        "Affiche le délais moyen de livraison par région, on réalise le même code que précédement et on utilise groupby pour trier."
      ],
      "metadata": {
        "id": "MLN74UuIs1Sf"
      }
    },
    {
      "cell_type": "code",
      "source": [
        "df[\"Order Date\"] = pd.to_datetime(df[\"Order Date\"])\n",
        "df[\"Ship Date\"] = pd.to_datetime(df[\"Ship Date\"])\n",
        "df[\"Delivery_Time\"] = (df[\"Ship Date\"] - df[\"Order Date\"]).dt.days\n",
        "b = df.groupby(\"Region\")[\"Delivery_Time\"].mean().round(2)\n",
        "\n",
        "print(b)\n"
      ],
      "metadata": {
        "colab": {
          "base_uri": "https://localhost:8080/"
        },
        "id": "56GzfeTwsaFQ",
        "outputId": "708f7396-fae6-45c4-be9b-0bc4fa4138ba"
      },
      "execution_count": 67,
      "outputs": [
        {
          "output_type": "stream",
          "name": "stdout",
          "text": [
            "Region\n",
            "Central    4.06\n",
            "East       3.91\n",
            "South      3.96\n",
            "West       3.93\n",
            "Name: Delivery_Time, dtype: float64\n"
          ]
        }
      ]
    },
    {
      "cell_type": "markdown",
      "source": [
        "Affiche le délais de livraison moyen pour chaque état"
      ],
      "metadata": {
        "id": "SvW7W4LPupkG"
      }
    },
    {
      "cell_type": "code",
      "source": [
        "df[\"Order Date\"] = pd.to_datetime(df[\"Order Date\"])\n",
        "df[\"Ship Date\"] = pd.to_datetime(df[\"Ship Date\"])\n",
        "df[\"Delivery_Time\"] = (df[\"Ship Date\"] - df[\"Order Date\"]).dt.days\n",
        "dlvr_city = df.groupby(\"State\")[\"Delivery_Time\"].mean().round(2)\n",
        "\n",
        "print(dlvr_city.sort_values())"
      ],
      "metadata": {
        "colab": {
          "base_uri": "https://localhost:8080/"
        },
        "id": "J_-5rY-Mtq7o",
        "outputId": "888335eb-468f-4376-fde0-c8bad2d50a9f"
      },
      "execution_count": 75,
      "outputs": [
        {
          "output_type": "stream",
          "name": "stdout",
          "text": [
            "State\n",
            "North Dakota            2.86\n",
            "West Virginia           3.00\n",
            "Louisiana               3.05\n",
            "Rhode Island            3.25\n",
            "Ohio                    3.45\n",
            "Nebraska                3.50\n",
            "Connecticut             3.60\n",
            "South Carolina          3.60\n",
            "Idaho                   3.67\n",
            "Colorado                3.68\n",
            "New Hampshire           3.70\n",
            "Virginia                3.84\n",
            "Georgia                 3.84\n",
            "Kentucky                3.86\n",
            "Massachusetts           3.87\n",
            "California              3.87\n",
            "Pennsylvania            3.88\n",
            "Vermont                 3.91\n",
            "Texas                   3.93\n",
            "Florida                 3.95\n",
            "Kansas                  3.96\n",
            "Washington              3.97\n",
            "North Carolina          4.00\n",
            "Wisconsin               4.00\n",
            "Maryland                4.02\n",
            "New York                4.06\n",
            "Arizona                 4.07\n",
            "Missouri                4.08\n",
            "Michigan                4.10\n",
            "Alabama                 4.11\n",
            "Illinois                4.12\n",
            "Arkansas                4.13\n",
            "Mississippi             4.21\n",
            "Delaware                4.27\n",
            "Oregon                  4.33\n",
            "Indiana                 4.34\n",
            "Utah                    4.36\n",
            "Tennessee               4.37\n",
            "Iowa                    4.37\n",
            "Nevada                  4.38\n",
            "South Dakota            4.42\n",
            "New Jersey              4.42\n",
            "Minnesota               4.48\n",
            "Oklahoma                4.48\n",
            "New Mexico              4.51\n",
            "Montana                 4.60\n",
            "Wyoming                 5.00\n",
            "Maine                   5.00\n",
            "District of Columbia    5.70\n",
            "Name: Delivery_Time, dtype: float64\n"
          ]
        }
      ]
    }
  ]
}
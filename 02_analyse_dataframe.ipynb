{
  "nbformat": 4,
  "nbformat_minor": 0,
  "metadata": {
    "colab": {
      "provenance": []
    },
    "kernelspec": {
      "name": "python3",
      "display_name": "Python 3"
    },
    "language_info": {
      "name": "python"
    }
  },
  "cells": [
    {
      "cell_type": "code",
      "execution_count": 5,
      "metadata": {
        "id": "OUQvwqgllGbN"
      },
      "outputs": [],
      "source": [
        "import pandas as pd\n",
        "\n",
        "df = pd.read_excel(\"Sample - Superstore.xls\")"
      ]
    },
    {
      "cell_type": "markdown",
      "source": [
        "# **Analyse du dataframe**"
      ],
      "metadata": {
        "id": "bO6iNr_ZlNDI"
      }
    },
    {
      "cell_type": "markdown",
      "source": [
        "Affiche les 3 premières lignes du dataframe (matrice de taille (3, 21)) avec la fonction \"head()\""
      ],
      "metadata": {
        "id": "QwGrEhHUmeMO"
      }
    },
    {
      "cell_type": "code",
      "source": [
        "h = df.head(3)\n",
        "\n",
        "print(h)"
      ],
      "metadata": {
        "colab": {
          "base_uri": "https://localhost:8080/"
        },
        "id": "S43QFlsHlZSi",
        "outputId": "b7e1663b-c63b-4a3c-f2c4-376fac713d36"
      },
      "execution_count": 7,
      "outputs": [
        {
          "output_type": "stream",
          "name": "stdout",
          "text": [
            "   Row ID        Order ID Order Date  Ship Date     Ship Mode Customer ID  \\\n",
            "0       1  CA-2016-152156 2016-11-08 2016-11-11  Second Class    CG-12520   \n",
            "1       2  CA-2016-152156 2016-11-08 2016-11-11  Second Class    CG-12520   \n",
            "2       3  CA-2016-138688 2016-06-12 2016-06-16  Second Class    DV-13045   \n",
            "\n",
            "     Customer Name    Segment        Country         City  ... Postal Code  \\\n",
            "0      Claire Gute   Consumer  United States    Henderson  ...       42420   \n",
            "1      Claire Gute   Consumer  United States    Henderson  ...       42420   \n",
            "2  Darrin Van Huff  Corporate  United States  Los Angeles  ...       90036   \n",
            "\n",
            "   Region       Product ID         Category Sub-Category  \\\n",
            "0   South  FUR-BO-10001798        Furniture    Bookcases   \n",
            "1   South  FUR-CH-10000454        Furniture       Chairs   \n",
            "2    West  OFF-LA-10000240  Office Supplies       Labels   \n",
            "\n",
            "                                        Product Name   Sales  Quantity  \\\n",
            "0                  Bush Somerset Collection Bookcase  261.96         2   \n",
            "1  Hon Deluxe Fabric Upholstered Stacking Chairs,...  731.94         3   \n",
            "2  Self-Adhesive Address Labels for Typewriters b...   14.62         2   \n",
            "\n",
            "   Discount    Profit  \n",
            "0       0.0   41.9136  \n",
            "1       0.0  219.5820  \n",
            "2       0.0    6.8714  \n",
            "\n",
            "[3 rows x 21 columns]\n"
          ]
        }
      ]
    },
    {
      "cell_type": "markdown",
      "source": [
        "Affiche les 3 dernières lignes du dataframe (matrice de taille (3, 21)) avec la fonction \"tail()\""
      ],
      "metadata": {
        "id": "g3KGTuCYmlgr"
      }
    },
    {
      "cell_type": "code",
      "source": [
        "t = df.tail(3)\n",
        "\n",
        "print(t)"
      ],
      "metadata": {
        "colab": {
          "base_uri": "https://localhost:8080/"
        },
        "id": "K20Tf8v1mpp6",
        "outputId": "b8b88ed0-2c8c-4f03-d16f-6ce13673302e"
      },
      "execution_count": 9,
      "outputs": [
        {
          "output_type": "stream",
          "name": "stdout",
          "text": [
            "      Row ID        Order ID Order Date  Ship Date       Ship Mode  \\\n",
            "9991    9992  CA-2017-121258 2017-02-26 2017-03-03  Standard Class   \n",
            "9992    9993  CA-2017-121258 2017-02-26 2017-03-03  Standard Class   \n",
            "9993    9994  CA-2017-119914 2017-05-04 2017-05-09    Second Class   \n",
            "\n",
            "     Customer ID Customer Name   Segment        Country         City  ...  \\\n",
            "9991    DB-13060   Dave Brooks  Consumer  United States   Costa Mesa  ...   \n",
            "9992    DB-13060   Dave Brooks  Consumer  United States   Costa Mesa  ...   \n",
            "9993    CC-12220  Chris Cortes  Consumer  United States  Westminster  ...   \n",
            "\n",
            "     Postal Code  Region       Product ID         Category Sub-Category  \\\n",
            "9991       92627    West  TEC-PH-10003645       Technology       Phones   \n",
            "9992       92627    West  OFF-PA-10004041  Office Supplies        Paper   \n",
            "9993       92683    West  OFF-AP-10002684  Office Supplies   Appliances   \n",
            "\n",
            "                                           Product Name    Sales  Quantity  \\\n",
            "9991                              Aastra 57i VoIP phone  258.576         2   \n",
            "9992  It's Hot Message Books with Stickers, 2 3/4\" x 5\"   29.600         4   \n",
            "9993  Acco 7-Outlet Masterpiece Power Center, Wihtou...  243.160         2   \n",
            "\n",
            "      Discount   Profit  \n",
            "9991       0.2  19.3932  \n",
            "9992       0.0  13.3200  \n",
            "9993       0.0  72.9480  \n",
            "\n",
            "[3 rows x 21 columns]\n"
          ]
        }
      ]
    },
    {
      "cell_type": "markdown",
      "source": [
        "Afiiche les dimensions du dataframe (matrice de taille (9994, 21)) avec la fonction \"shape\""
      ],
      "metadata": {
        "id": "mWFqk3z_nfHs"
      }
    },
    {
      "cell_type": "code",
      "source": [
        "s = df.shape\n",
        "\n",
        "print(s)"
      ],
      "metadata": {
        "colab": {
          "base_uri": "https://localhost:8080/"
        },
        "id": "8ODlEbjPnqBr",
        "outputId": "0f3725e7-0080-43f7-ead1-45be2be1c5f6"
      },
      "execution_count": 11,
      "outputs": [
        {
          "output_type": "stream",
          "name": "stdout",
          "text": [
            "(9994, 21)\n"
          ]
        }
      ]
    },
    {
      "cell_type": "markdown",
      "source": [
        "Affiche la liste des index du dataframe avec la fonction columns.\n",
        "L'option \"to_list()\" permet de renvoyer un array (une liste en python)."
      ],
      "metadata": {
        "id": "EVYorRG7n_P4"
      }
    },
    {
      "cell_type": "code",
      "source": [
        "c = df.columns\n",
        "\n",
        "print(c)\n",
        "print(c.to_list())"
      ],
      "metadata": {
        "colab": {
          "base_uri": "https://localhost:8080/"
        },
        "id": "YD7hAtteoH2t",
        "outputId": "88707a29-e350-42e3-f4f2-e34cf9c47eda"
      },
      "execution_count": 14,
      "outputs": [
        {
          "output_type": "stream",
          "name": "stdout",
          "text": [
            "Index(['Row ID', 'Order ID', 'Order Date', 'Ship Date', 'Ship Mode',\n",
            "       'Customer ID', 'Customer Name', 'Segment', 'Country', 'City', 'State',\n",
            "       'Postal Code', 'Region', 'Product ID', 'Category', 'Sub-Category',\n",
            "       'Product Name', 'Sales', 'Quantity', 'Discount', 'Profit'],\n",
            "      dtype='object')\n",
            "['Row ID', 'Order ID', 'Order Date', 'Ship Date', 'Ship Mode', 'Customer ID', 'Customer Name', 'Segment', 'Country', 'City', 'State', 'Postal Code', 'Region', 'Product ID', 'Category', 'Sub-Category', 'Product Name', 'Sales', 'Quantity', 'Discount', 'Profit']\n"
          ]
        }
      ]
    },
    {
      "cell_type": "markdown",
      "source": [
        "Affiche les différents types pour les index avec la fonction \"dtypes\""
      ],
      "metadata": {
        "id": "j_EI5VXVoxIf"
      }
    },
    {
      "cell_type": "code",
      "source": [
        "d = df.dtypes\n",
        "\n",
        "print(d)"
      ],
      "metadata": {
        "colab": {
          "base_uri": "https://localhost:8080/"
        },
        "id": "0Z3fqp_eo_pT",
        "outputId": "d2b5ecb7-2b4f-463d-93ef-205fcbdaabff"
      },
      "execution_count": 16,
      "outputs": [
        {
          "output_type": "stream",
          "name": "stdout",
          "text": [
            "Row ID                    int64\n",
            "Order ID                 object\n",
            "Order Date       datetime64[ns]\n",
            "Ship Date        datetime64[ns]\n",
            "Ship Mode                object\n",
            "Customer ID              object\n",
            "Customer Name            object\n",
            "Segment                  object\n",
            "Country                  object\n",
            "City                     object\n",
            "State                    object\n",
            "Postal Code               int64\n",
            "Region                   object\n",
            "Product ID               object\n",
            "Category                 object\n",
            "Sub-Category             object\n",
            "Product Name             object\n",
            "Sales                   float64\n",
            "Quantity                  int64\n",
            "Discount                float64\n",
            "Profit                  float64\n",
            "dtype: object\n"
          ]
        }
      ]
    },
    {
      "cell_type": "markdown",
      "source": [
        "Affiche"
      ],
      "metadata": {
        "id": "4vFUBYkrnFOm"
      }
    }
  ]
}